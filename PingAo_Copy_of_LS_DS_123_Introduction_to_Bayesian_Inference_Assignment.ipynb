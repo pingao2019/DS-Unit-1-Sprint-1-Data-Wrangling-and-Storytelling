{
  "nbformat": 4,
  "nbformat_minor": 0,
  "metadata": {
    "colab": {
      "name": "PingAo_Copy of LS_DS_123_Introduction_to_Bayesian_Inference_Assignment.ipynb",
      "provenance": [],
      "collapsed_sections": [],
      "include_colab_link": true
    },
    "kernelspec": {
      "name": "python3",
      "display_name": "Python 3"
    }
  },
  "cells": [
    {
      "cell_type": "markdown",
      "metadata": {
        "id": "view-in-github",
        "colab_type": "text"
      },
      "source": [
        "<a href=\"https://colab.research.google.com/github/pingao2019/DS-Unit-1-Sprint-1-Data-Wrangling-and-Storytelling/blob/master/PingAo_Copy_of_LS_DS_123_Introduction_to_Bayesian_Inference_Assignment.ipynb\" target=\"_parent\"><img src=\"https://colab.research.google.com/assets/colab-badge.svg\" alt=\"Open In Colab\"/></a>"
      ]
    },
    {
      "cell_type": "markdown",
      "metadata": {
        "id": "H7OLbevlbd_Z",
        "colab_type": "text"
      },
      "source": [
        "# Lambda School Data Science Module 123\n",
        "\n",
        "## Introduction to Bayesian Inference\n",
        "\n",
        "\n"
      ]
    },
    {
      "cell_type": "markdown",
      "metadata": {
        "id": "P-DzzRk5bf0z",
        "colab_type": "text"
      },
      "source": [
        "## Assignment - Code it up!\n",
        "\n",
        "We used pure math to apply Bayes Theorem to drug tests. Now write Python code to reproduce the results! This is purposefully open ended - you'll have to think about how you should represent probabilities and events. You can and should look things up.\n",
        "\n",
        "Specific goals/targets:\n",
        "\n",
        "### 1) Write a function \n",
        "\n",
        "`def prob_drunk_given_positive(prob_drunk_prior, false_positive_rate):` \n",
        "\n",
        "You should only truly need these two values in order to apply Bayes Theorem. In this example, imagine that individuals are taking a breathalyzer test with an 8% false positive rate, a 100% true positive rate, and that our prior belief about drunk driving in the population is 1/1000. \n",
        " - What is the probability that a person is drunk after one positive breathalyzer test?\n",
        " - What is the probability that a person is drunk after two positive breathalyzer tests?\n",
        " - How many positive breathalyzer tests are needed in order to have a probability that's greater than 95% that a person is drunk beyond the legal limit?\n",
        "\n",
        "### 2) Explore `scipy.stats.bayes_mvs`  \n",
        "Read its documentation, and experiment with it on data you've tested in other ways earlier this week.\n",
        " - Create a visualization comparing the results of a Bayesian approach to a traditional/frequentist approach. (with a large sample size they should look close to identical, however, take this opportunity to practice visualizing condfidence intervals in general. The following are some potential ways that you could visualize confidence intervals on your graph:\n",
        "  - [Matplotlib Error Bars](https://matplotlib.org/3.1.1/api/_as_gen/matplotlib.pyplot.errorbar.html)\n",
        "  - [Seaborn barplot with error bars](https://seaborn.pydata.org/generated/seaborn.barplot.html)\n",
        "  - [Vertical ines to show bounds of confidence interval](https://www.simplypsychology.org/confidence-interval.jpg)\n",
        "  - [Confidence Intervals on Box Plots](https://matplotlib.org/3.1.1/api/_as_gen/matplotlib.axes.Axes.boxplot.html)\n",
        "\n",
        "### 3) In your own words, summarize the difference between Bayesian and Frequentist statistics\n",
        "\n",
        "If you're unsure where to start, check out [this blog post of Bayes theorem with Python](https://dataconomy.com/2015/02/introduction-to-bayes-theorem-with-python/).\n",
        "\n"
      ]
    },
    {
      "cell_type": "markdown",
      "metadata": {
        "id": "4i5OAaNVKDYx",
        "colab_type": "text"
      },
      "source": [
        "![Bayes Theorem Drug Test Example](https://wikimedia.org/api/rest_v1/media/math/render/svg/95c6524a3736c43e4bae139713f3df2392e6eda9)"
      ]
    },
    {
      "cell_type": "markdown",
      "metadata": {
        "id": "69wTwBJNO_te",
        "colab_type": "text"
      },
      "source": [
        ""
      ]
    },
    {
      "cell_type": "code",
      "metadata": {
        "id": "xpVhZyUnbf7o",
        "colab_type": "code",
        "colab": {
          "base_uri": "https://localhost:8080/",
          "height": 92
        },
        "outputId": "ee11cd51-f733-46e5-9098-925d996b1819"
      },
      "source": [
        "p_pos_user=1\n",
        "p_user=1/1000\n",
        "p_pos_nonuser=0.08\n",
        "p_nonuser=1-p_user\n",
        "print('probablity positive given user', p_pos_user)\n",
        "print('probablity of user', p_user)\n",
        "print('probablity positive given nonuser', p_pos_nonuser)\n",
        "print('probablity of nonuser', p_nonuser)"
      ],
      "execution_count": 2,
      "outputs": [
        {
          "output_type": "stream",
          "text": [
            "probablity positive given user 1\n",
            "probablity of user 0.001\n",
            "probablity positive given nonuser 0.08\n",
            "probablity of nonuser 0.999\n"
          ],
          "name": "stdout"
        }
      ]
    },
    {
      "cell_type": "code",
      "metadata": {
        "id": "phTB3rD-HsKx",
        "colab_type": "code",
        "colab": {
          "base_uri": "https://localhost:8080/",
          "height": 36
        },
        "outputId": "630765bb-0ec9-4fbf-9e7b-2a4e069a177d"
      },
      "source": [
        "posterior_probality= p_pos_user*p_user/(p_pos_user*p_user+p_pos_nonuser*p_nonuser )\n",
        "print(posterior_probality)"
      ],
      "execution_count": 7,
      "outputs": [
        {
          "output_type": "stream",
          "text": [
            "0.012357884330202669\n"
          ],
          "name": "stdout"
        }
      ]
    },
    {
      "cell_type": "markdown",
      "metadata": {
        "id": "QRk5skPfPPBV",
        "colab_type": "text"
      },
      "source": [
        "So the probability that a person is drunk after one positive breathalyzer tes is only 1.2357884330202669%"
      ]
    },
    {
      "cell_type": "code",
      "metadata": {
        "id": "m236eKC5HsSD",
        "colab_type": "code",
        "colab": {
          "base_uri": "https://localhost:8080/",
          "height": 92
        },
        "outputId": "a489a23e-76ac-4437-a804-801b41c6dff0"
      },
      "source": [
        "#f prob_drunk_given_positive(prob_drunk_prior, false_positive_rate):\n",
        "p_pos_user=1\n",
        "p_user=0.012357\n",
        "p_pos_nonuser=0.08\n",
        "p_nonuser=1-p_user\n",
        "print('probablity positive given user', p_pos_user)\n",
        "print('probablity of user', p_user)\n",
        "print('probablity positive given nonuser', p_pos_nonuser)\n",
        "print('probablity of nonuser', p_nonuser)\n"
      ],
      "execution_count": 11,
      "outputs": [
        {
          "output_type": "stream",
          "text": [
            "probablity positive given user 1\n",
            "probablity of user 0.012357\n",
            "probablity positive given nonuser 0.08\n",
            "probablity of nonuser 0.987643\n"
          ],
          "name": "stdout"
        }
      ]
    },
    {
      "cell_type": "code",
      "metadata": {
        "id": "R44Jl9ofHsaE",
        "colab_type": "code",
        "colab": {
          "base_uri": "https://localhost:8080/",
          "height": 36
        },
        "outputId": "96c5e60d-ac41-449a-de3b-04bd786a77c5"
      },
      "source": [
        "posterior_probality= p_pos_user*p_user/(p_pos_user*p_user+p_pos_nonuser*p_nonuser )\n",
        "print(posterior_probality)\n",
        "\n"
      ],
      "execution_count": 12,
      "outputs": [
        {
          "output_type": "stream",
          "text": [
            "0.13524363554855484\n"
          ],
          "name": "stdout"
        }
      ]
    },
    {
      "cell_type": "code",
      "metadata": {
        "id": "DwTXFr1MHseR",
        "colab_type": "code",
        "colab": {
          "base_uri": "https://localhost:8080/",
          "height": 36
        },
        "outputId": "0c1f8f0d-ac8d-4955-e5de-cb31019ec6fb"
      },
      "source": [
        "p_pos_user=1\n",
        "p_user=0.13524363554855484\n",
        "p_pos_nonuser=0.08\n",
        "p_nonuser=1-p_user\n",
        "\n",
        "posterior_probality= p_pos_user*p_user/(p_pos_user*p_user+p_pos_nonuser*p_nonuser )\n",
        "print(posterior_probality)"
      ],
      "execution_count": 14,
      "outputs": [
        {
          "output_type": "stream",
          "text": [
            "0.6615834726565201\n"
          ],
          "name": "stdout"
        }
      ]
    },
    {
      "cell_type": "code",
      "metadata": {
        "id": "5jNa-iKtHsiO",
        "colab_type": "code",
        "colab": {
          "base_uri": "https://localhost:8080/",
          "height": 36
        },
        "outputId": "4d18174e-64bf-485c-cf30-ca6afd45b83f"
      },
      "source": [
        "p_pos_user=1\n",
        "p_user=0.6615834726565201\n",
        "p_pos_nonuser=0.08\n",
        "p_nonuser=1-p_user\n",
        "\n",
        "posterior_probality= p_pos_user*p_user/(p_pos_user*p_user+p_pos_nonuser*p_nonuser )\n",
        "print(posterior_probality)\n"
      ],
      "execution_count": 15,
      "outputs": [
        {
          "output_type": "stream",
          "text": [
            "0.9606867711316036\n"
          ],
          "name": "stdout"
        }
      ]
    },
    {
      "cell_type": "markdown",
      "metadata": {
        "id": "tQQySzDmRl2H",
        "colab_type": "text"
      },
      "source": [
        "So 4 times positive breathalyzer tests are needed in order to have a probability that's greater than 95% that a person is drunk beyond the legal limit."
      ]
    },
    {
      "cell_type": "markdown",
      "metadata": {
        "id": "berLzFY-SALe",
        "colab_type": "text"
      },
      "source": [
        "Create a visualization comparing the results of a Bayesian approach to a traditional/frequentist approach. (with a large sample size they should look close to identical, however, take this opportunity to practice visualizing condfidence intervals in general. The following are some potential ways that you could visualize confidence intervals on your graph:"
      ]
    },
    {
      "cell_type": "code",
      "metadata": {
        "id": "4s5-nBbTS8MB",
        "colab_type": "code",
        "colab": {
          "base_uri": "https://localhost:8080/",
          "height": 73
        },
        "outputId": "a5e7591e-6567-4be2-a88c-e51960f3a30b"
      },
      "source": [
        "#frequentist approach\n",
        "import matplotlib.pyplot as plt\n",
        "\n",
        "from scipy import stats\n",
        "import numpy as np\n",
        "np.random.seed(20)\n",
        "coinflips= np.random.binomial(n=1, p=.5, size=80)\n",
        "print(coinflips)\n"
      ],
      "execution_count": 38,
      "outputs": [
        {
          "output_type": "stream",
          "text": [
            "[1 1 1 1 0 1 0 1 1 0 0 1 1 1 1 0 0 1 0 0 1 1 1 0 1 0 1 1 0 0 1 1 0 0 1 0 0\n",
            " 1 0 0 1 1 0 0 0 1 0 1 1 0 1 0 1 1 1 1 1 1 0 1 1 0 1 1 1 0 0 0 1 0 1 1 1 1\n",
            " 0 1 1 1 0 1]\n"
          ],
          "name": "stdout"
        }
      ]
    },
    {
      "cell_type": "code",
      "metadata": {
        "id": "60v7fijbLVom",
        "colab_type": "code",
        "colab": {
          "base_uri": "https://localhost:8080/",
          "height": 265
        },
        "outputId": "ff9f359e-3b7c-42e0-d193-243cdd2a1ccc"
      },
      "source": [
        "sample_means = []\n",
        "for x in range(0, 3000):\n",
        "  coinflips = np.random.binomial(n=1, p=.5, size=80)\n",
        "  sample_means.append(coinflips.mean())\n",
        "ax = plt.hist(sample_means, bins=24)"
      ],
      "execution_count": 39,
      "outputs": [
        {
          "output_type": "display_data",
          "data": {
            "image/png": "[encoded data removed]",
            "text/plain": [
              "<Figure size 432x288 with 1 Axes>"
            ]
          },
          "metadata": {
            "tags": []
          }
        }
      ]
    },
    {
      "cell_type": "code",
      "metadata": {
        "id": "qtT0CwrOS8Qs",
        "colab_type": "code",
        "colab": {
          "base_uri": "https://localhost:8080/",
          "height": 36
        },
        "outputId": "0d4fb4b3-4a41-470b-eeaa-b48a302c00b8"
      },
      "source": [
        "def confidence_interval(coinflips, confidence=.05):\n",
        "  n=len(coinflips)\n",
        "  mean=sum(coinflips)/n\n",
        "  stderr=stats.sem(coinflips)\n",
        "  interval=stderr*stats.t.ppf((1+confidence)/2.0,n-1)\n",
        "  return (mean, mean-interval, mean+interval)\n",
        "\n",
        "confidence_interval(coinflips)\n"
      ],
      "execution_count": 35,
      "outputs": [
        {
          "output_type": "execute_result",
          "data": {
            "text/plain": [
              "(0.6, 0.5965327408185253, 0.6034672591814747)"
            ]
          },
          "metadata": {
            "tags": []
          },
          "execution_count": 35
        }
      ]
    },
    {
      "cell_type": "code",
      "metadata": {
        "id": "knqK8H0bS8UT",
        "colab_type": "code",
        "colab": {
          "base_uri": "https://localhost:8080/",
          "height": 36
        },
        "outputId": "b6cc96d3-d4a8-40a0-996a-b5578e91bdd9"
      },
      "source": [
        "# bayesian way:\n",
        "bayesians_confidence_interval, _, _ =stats.bayes_mvs(coinflips)\n",
        "print(bayesians_confidence_interval)\n"
      ],
      "execution_count": 33,
      "outputs": [
        {
          "output_type": "stream",
          "text": [
            "Mean(statistic=0.45, minmax=(0.35684111052518425, 0.5431588894748157))\n"
          ],
          "name": "stdout"
        }
      ]
    },
    {
      "cell_type": "markdown",
      "metadata": {
        "id": "7v4JNzTGJhCO",
        "colab_type": "text"
      },
      "source": [
        "#Conclusion:above two ways get same results as long as the sample size is big enough."
      ]
    },
    {
      "cell_type": "markdown",
      "metadata": {
        "id": "hOLfD2hvS0jT",
        "colab_type": "text"
      },
      "source": [
        ""
      ]
    },
    {
      "cell_type": "markdown",
      "metadata": {
        "id": "QRgHqmYIQ9qn",
        "colab_type": "text"
      },
      "source": [
        "- [Worked example of Bayes rule calculation](https://en.wikipedia.org/wiki/Bayes'_theorem#Examples) (helpful as it fully breaks out the denominator)\n",
        "- [Source code for mvsdist in scipy](https://github.com/scipy/scipy/blob/90534919e139d2a81c24bf08341734ff41a3db12/scipy/stats/morestats.py#L139)"
      ]
    },
    {
      "cell_type": "markdown",
      "metadata": {
        "id": "GP7Jv1XvwtkX",
        "colab_type": "text"
      },
      "source": [
        "## Stretch Goals:\n",
        "\n",
        "- Go back and study the content from Modules 1 & 2 to make sure that you're really comfortable with them.\n",
        "- Apply a Bayesian technique to a problem you previously worked (in an assignment or project work) on from a frequentist (standard) perspective\n",
        "- Check out [PyMC3](https://docs.pymc.io/) (note this goes beyond hypothesis tests into modeling) - read the guides and work through some examples\n",
        "- Take PyMC3 further - see if you can build something with it!"
      ]
    },
    {
      "cell_type": "code",
      "metadata": {
        "id": "iDi0eFr1x-v_",
        "colab_type": "code",
        "colab": {}
      },
      "source": [
        ""
      ],
      "execution_count": 0,
      "outputs": []
    }
  ]
}