{
  "nbformat": 4,
  "nbformat_minor": 0,
  "metadata": {
    "colab": {
      "name": "PS_ of  Unit 2 Sprint 2 copy- Study Guide.ipynb",
      "provenance": [],
      "collapsed_sections": [],
      "include_colab_link": true
    },
    "kernelspec": {
      "name": "python3",
      "display_name": "Python 3"
    }
  },
  "cells": [
    {
      "cell_type": "markdown",
      "metadata": {
        "id": "view-in-github",
        "colab_type": "text"
      },
      "source": [
        "<a href=\"https://colab.research.google.com/github/pingao2019/DS-Unit-1-Sprint-1-Data-Wrangling-and-Storytelling/blob/master/PS__of_Unit_2_Sprint_2_copy_Study_Guide.ipynb\" target=\"_parent\"><img src=\"https://colab.research.google.com/assets/colab-badge.svg\" alt=\"Open In Colab\"/></a>"
      ]
    },
    {
      "cell_type": "markdown",
      "metadata": {
        "id": "Nd2OOOVXxXS1",
        "colab_type": "text"
      },
      "source": [
        "This study guide should reinforce and provide practice for all of the concepts you have seen in Unit 1 Sprint 2. There are a mix of written questions and coding exercises, both are equally important to prepare you for the sprint challenge as well as to be able to speak on these topics comfortably in interviews and on the job.\n",
        "\n",
        "If you get stuck or are unsure of something remember the 20 minute rule. If that doesn't help, then research a solution with google and stackoverflow. Only once you have exausted these methods should you turn to your Team Lead - they won't be there on your SC or during an interview. That being said, don't hesitate to ask for help if you truly are stuck.\n",
        "\n",
        "Have fun studying!"
      ]
    },
    {
      "cell_type": "markdown",
      "metadata": {
        "id": "fpvInKdXekFi",
        "colab_type": "text"
      },
      "source": [
        "## Questions"
      ]
    },
    {
      "cell_type": "markdown",
      "metadata": {
        "id": "Q6bS8AhBZ86H",
        "colab_type": "text"
      },
      "source": [
        "When completing this section, try to limit your answers to 2-3 sentences max and use plain english as much as possible. It's very easy to hide incomplete knowledge and undertanding behind fancy or technical words, so imagine you are explaining these things to a non-technical interviewer.\n",
        "\n",
        "1. What is a CSV and how do you load it into a notebook?\n",
        "a). for online:  \n",
        "import pandas as pd \n",
        "df = pd.read_csv('https://raw.githubusercontent.com/ryanleeallred/datasets/master/adult.csv', na_values=' ?')\n",
        "b) for local files\n",
        "i)Find the actual file to download\n",
        "From navigating the page, clicking \"Data Folder\"\n",
        "Right click on the link to the dataset and say \"Copy Link Address\"\n",
        "e.g. flag_data_url = 'https://archive.ics.uci.edu/ml/machine-learning-databases/flags/flag.data'\n",
        "\n",
        "!curl https://archive.ics.uci.edu/ml/machine-learning-databases/flags/flag.data\n",
        " df = pd.read_csv(flag_data_url)   \n",
        "\n",
        "ii) by google \n",
        "from google.colab import files\n",
        "\n",
        "uploaded = files.upload()\n",
        "\n",
        "2. What is a NaN and what will you do with it?\n",
        "It means \"not a number\", a float, we perform a calculation whose result can't be expressed as a number. Any calculations you perform with NaN will also result in NaN. so remove it by code:e.g, col= rep['water-project']\n",
        "rep_water_project_no_nans=col[-np.isnan(col)]\n",
        "\n",
        "3. How do you check for datatypes?\n",
        "\n",
        "a)import pandas, df.dtypes\n",
        "\n",
        "b)import numpy, type('a')\n",
        "\n",
        "\n",
        "4. What is Crosstabs and what are they used for?\n",
        "\n",
        "\n",
        "It is used to compute a simple cross tabulation of two (or more) factors\n",
        "\n",
        "make new tables: e.g. \n",
        "pd.crosstab(index=df_tips['day'], columns=df_tips['sex'])\n",
        "\n",
        "It crosses tabulation of the data.\n",
        "\n",
        "\n",
        "5. What is the difference between a T-Test and a P-Test?\n",
        "```\n",
        "from my understanding, P-test for p-value.\" P-test calculates a value which \n",
        "enables the researcher to determine the credibility of the accepted claim. The \n",
        "corresponding p-value is compared to a statistically significant level \n",
        "(confidence level), alpha (α), that the researcher has chosen to gauge the \n",
        "randomness of the results. \"\n",
        "\n",
        "A t-test is a type of inferential statistic  to determine if there is a \n",
        "significant difference between the means of two groups, which may be related in\n",
        " certain features. It is mostly used when the data sets, like the data set\n",
        "  recorded as the outcome from flipping a coin 100 times, would follow a normal \n",
        "  distribution and may have unknown variances. we can get statistic t  and \n",
        "  p-value to test whether H zero is rejected or fail to rejected. \n",
        "\n",
        "```"
      ]
    },
    {
      "cell_type": "code",
      "metadata": {
        "id": "IvssTH6aDaey",
        "colab_type": "code",
        "colab": {}
      },
      "source": [
        ""
      ],
      "execution_count": 0,
      "outputs": []
    },
    {
      "cell_type": "markdown",
      "metadata": {
        "id": "sj5-1Nnkpej6",
        "colab_type": "text"
      },
      "source": [
        ""
      ]
    },
    {
      "cell_type": "markdown",
      "metadata": {
        "id": "vz6CusBmpDgz",
        "colab_type": "text"
      },
      "source": [
        "Crosstab\n",
        "```\n",
        "import pandas as pd,\n",
        "pd.crosstab(df[''],df[''])\n",
        "\n",
        "```\n",
        "CSV\n",
        "```\n",
        "import pandas as pd, \n",
        "df=pd.read_csv(' url')\n",
        "```\n",
        "T-Tests\n",
        "A t-test is a type of inferential statistic used to determine if there is a significant difference between the means of 2 samples.if sample big enough, it will more approch normal distribution. \n",
        "\n",
        "```\n",
        "Datatypes\n",
        "```\n",
        "i)import numpy as np\n",
        "\n",
        "type()\n",
        "\n",
        "ii)import pandas as pd\n",
        "\n",
        "pd.dtypes\n",
        "```\n",
        "Plots\n",
        "```\n",
        "import matplotlib as plt\n",
        "\n",
        "\n",
        "import seanborn as sns\n",
        "```\n",
        "\n"
      ]
    },
    {
      "cell_type": "code",
      "metadata": {
        "id": "to8ZgpUiirmy",
        "colab_type": "code",
        "colab": {}
      },
      "source": [
        ""
      ],
      "execution_count": 0,
      "outputs": []
    },
    {
      "cell_type": "markdown",
      "metadata": {
        "id": "dUQaIwbceohq",
        "colab_type": "text"
      },
      "source": [
        "## Practice Problems"
      ]
    },
    {
      "cell_type": "markdown",
      "metadata": {
        "id": "4jnYgnFjP6eE",
        "colab_type": "text"
      },
      "source": [
        "Load and validate a data set\n"
      ]
    },
    {
      "cell_type": "code",
      "metadata": {
        "id": "S9hFYrmqQlLA",
        "colab_type": "code",
        "colab": {}
      },
      "source": [
        "import pandas as pd\n",
        "df= pd.read_csv('url')"
      ],
      "execution_count": 0,
      "outputs": []
    },
    {
      "cell_type": "markdown",
      "metadata": {
        "id": "bCbET5ioQlmQ",
        "colab_type": "text"
      },
      "source": [
        "Check for NaNs\n"
      ]
    },
    {
      "cell_type": "code",
      "metadata": {
        "id": "lwNwPn5nQowi",
        "colab_type": "code",
        "colab": {}
      },
      "source": [
        "import pandas as pd\n",
        "df[''].isnull().sum()"
      ],
      "execution_count": 0,
      "outputs": []
    },
    {
      "cell_type": "markdown",
      "metadata": {
        "id": "2hq-PhcTQph7",
        "colab_type": "text"
      },
      "source": [
        "Check for Dtypes"
      ]
    },
    {
      "cell_type": "code",
      "metadata": {
        "id": "ZsWsuYwXRRP3",
        "colab_type": "code",
        "colab": {}
      },
      "source": [
        "import panda as pd\n",
        "df[''].dtypes"
      ],
      "execution_count": 0,
      "outputs": []
    },
    {
      "cell_type": "markdown",
      "metadata": {
        "id": "jVqQYLgxld7M",
        "colab_type": "text"
      },
      "source": [
        "create plots for explanitory visualizations"
      ]
    },
    {
      "cell_type": "code",
      "metadata": {
        "id": "ScovMuwvRdtq",
        "colab_type": "code",
        "colab": {
          "base_uri": "https://localhost:8080/",
          "height": 296
        },
        "outputId": "06a67531-7b1d-49a6-fdee-e4bb09043f88"
      },
      "source": [
        "import numpy as np\n",
        "import matplotlib.pyplot as plt\n",
        "\n",
        "sample_means = []\n",
        "for x in range(0, 3000):\n",
        "  coinflips = np.random.binomial(n=1, p=.5, size=12)\n",
        "  sample_means.append(coinflips.mean())\n",
        "ax = plt.hist(sample_means, bins=24)\n",
        "plt.title('Distribution of 3000 sample means \\n (of 12 coinflips each)');  "
      ],
      "execution_count": 2,
      "outputs": [
        {
          "output_type": "display_data",
          "data": {
            "image/png": "[encoded data removed]",
            "text/plain": [
              "<Figure size 432x288 with 1 Axes>"
            ]
          },
          "metadata": {
            "tags": []
          }
        }
      ]
    },
    {
      "cell_type": "markdown",
      "metadata": {
        "id": "uD5cTw9plh9c",
        "colab_type": "text"
      },
      "source": [
        "Create a crosstab"
      ]
    },
    {
      "cell_type": "code",
      "metadata": {
        "id": "XlazD59ClhXi",
        "colab_type": "code",
        "colab": {
          "base_uri": "https://localhost:8080/",
          "height": 143
        },
        "outputId": "20a0eb91-a8ee-4f06-88bd-127a4aec15ed"
      },
      "source": [
        "import pandas as pd\n",
        "a = np.array([\"foo\", \"foo\", \"foo\", \"foo\", \"bar\", \"bar\",\n",
        "               \"bar\", \"bar\", \"foo\", \"foo\", \"foo\"])\n",
        "b = np.array([\"one\", \"one\", \"one\", \"two\", \"one\", \"one\",\n",
        "               \"one\", \"two\", \"two\", \"two\", \"one\"])\n",
        "\n",
        "pd.crosstab(a, b, rownames=['a'], colnames=['b'])\n"
      ],
      "execution_count": 6,
      "outputs": [
        {
          "output_type": "execute_result",
          "data": {
            "text/html": [
              "<div>\n",
              "<style scoped>\n",
              "    .dataframe tbody tr th:only-of-type {\n",
              "        vertical-align: middle;\n",
              "    }\n",
              "\n",
              "    .dataframe tbody tr th {\n",
              "        vertical-align: top;\n",
              "    }\n",
              "\n",
              "    .dataframe thead th {\n",
              "        text-align: right;\n",
              "    }\n",
              "</style>\n",
              "<table border=\"1\" class=\"dataframe\">\n",
              "  <thead>\n",
              "    <tr style=\"text-align: right;\">\n",
              "      <th>b</th>\n",
              "      <th>one</th>\n",
              "      <th>two</th>\n",
              "    </tr>\n",
              "    <tr>\n",
              "      <th>a</th>\n",
              "      <th></th>\n",
              "      <th></th>\n",
              "    </tr>\n",
              "  </thead>\n",
              "  <tbody>\n",
              "    <tr>\n",
              "      <th>bar</th>\n",
              "      <td>3</td>\n",
              "      <td>1</td>\n",
              "    </tr>\n",
              "    <tr>\n",
              "      <th>foo</th>\n",
              "      <td>4</td>\n",
              "      <td>3</td>\n",
              "    </tr>\n",
              "  </tbody>\n",
              "</table>\n",
              "</div>"
            ],
            "text/plain": [
              "b    one  two\n",
              "a            \n",
              "bar    3    1\n",
              "foo    4    3"
            ]
          },
          "metadata": {
            "tags": []
          },
          "execution_count": 6
        }
      ]
    },
    {
      "cell_type": "code",
      "metadata": {
        "id": "CrZFu4iuittO",
        "colab_type": "code",
        "colab": {}
      },
      "source": [
        "from scipy import stats \n",
        " # 1 sample test\n",
        "\n",
        "ttest_1samp(dem[''], .5, nan_policy='omit') \n"
      ],
      "execution_count": 0,
      "outputs": []
    },
    {
      "cell_type": "code",
      "metadata": {
        "id": "66c4FPr9U9gs",
        "colab_type": "code",
        "colab": {}
      },
      "source": [
        "stats.ttest_ind(samp1,samp2, nan_policy='omit')"
      ],
      "execution_count": 0,
      "outputs": []
    },
    {
      "cell_type": "code",
      "metadata": {
        "id": "r1tsAdyqVHZ4",
        "colab_type": "code",
        "colab": {}
      },
      "source": [
        "#Chi-square hypothesis tests can only be performed on categorical data to \n",
        "#test independence (lack of association) between two variables.\n",
        "# there are 2 methods: numpy or scipy.\n",
        "from scipy import stats \n",
        "p_value=stats.chi2.sf(data, dof)"
      ],
      "execution_count": 0,
      "outputs": []
    }
  ]
}